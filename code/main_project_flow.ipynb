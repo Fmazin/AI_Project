{
  "cells": [
    {
      "cell_type": "markdown",
      "metadata": {
        "id": "SdESlEndcVBB"
      },
      "source": [
        "# AH2179 Applied Artificial Intelligence in Transportation Group 5 Project\n",
        "### By Fabian Fermazin, William Öman, Itsuki Shindo"
      ]
    },
    {
      "cell_type": "code",
      "source": [
        "#pip install calmap"
      ],
      "metadata": {
        "id": "JTbND57MZVkg"
      },
      "execution_count": 39,
      "outputs": []
    },
    {
      "cell_type": "code",
      "source": [
        "import pandas as pd\n",
        "import numpy as np; np.random.seed(sum(map(ord, 'calmap')))\n",
        "import calmap\n",
        "import matplotlib.pyplot as plt\n",
        "from datetime import datetime"
      ],
      "metadata": {
        "id": "dClcOmJIjSr0"
      },
      "execution_count": 40,
      "outputs": []
    },
    {
      "cell_type": "markdown",
      "source": [
        "#Data Preparation"
      ],
      "metadata": {
        "id": "caQwSuT7eMYO"
      }
    },
    {
      "cell_type": "code",
      "source": [
        "df = pd.read_csv('Dataset-PT_seasons.csv')\n",
        "Stockholmtemp2022 = pd.read_csv('Stockholmtemp2022.csv', sep=';')"
      ],
      "metadata": {
        "id": "TGeXDAgxjWG-"
      },
      "execution_count": 41,
      "outputs": []
    },
    {
      "cell_type": "code",
      "source": [
        "# Change the date format of Stockholmtemp2022 to match the df\n",
        "def change_date_format(date_str):\n",
        "    date_obj = pd.to_datetime(date_str)\n",
        "    return date_obj.strftime(\"%Y%m%d\")\n",
        "Stockholmtemp2022[\"date\"] = Stockholmtemp2022[\"date\"].apply(change_date_format)\n",
        "\n",
        "# Change the name of the date column to match the df\n",
        "Stockholmtemp2022[\"Calendar_date\"] = 0\n",
        "Stockholmtemp2022[\"Calendar_date\"] = Stockholmtemp2022[\"date\"]\n",
        "Stockholmtemp2022.drop(columns=[\"date\"])"
      ],
      "metadata": {
        "id": "4EncXz7yjs0q",
        "outputId": "bfef3c21-3400-417e-d29e-ab41df0b69f0",
        "colab": {
          "base_uri": "https://localhost:8080/",
          "height": 423
        }
      },
      "execution_count": 42,
      "outputs": [
        {
          "output_type": "execute_result",
          "data": {
            "text/plain": [
              "     temp Calendar_date\n",
              "0    -1.4      20220101\n",
              "1     1.9      20220102\n",
              "2     3.6      20220103\n",
              "3     0.6      20220104\n",
              "4    -2.2      20220105\n",
              "..    ...           ...\n",
              "176  23.1      20220626\n",
              "177  24.1      20220627\n",
              "178  24.1      20220628\n",
              "179  19.6      20220629\n",
              "180  22.4      20220630\n",
              "\n",
              "[181 rows x 2 columns]"
            ],
            "text/html": [
              "\n",
              "  <div id=\"df-13944a2f-8cf3-4ed8-ad6e-9c9385cb9404\" class=\"colab-df-container\">\n",
              "    <div>\n",
              "<style scoped>\n",
              "    .dataframe tbody tr th:only-of-type {\n",
              "        vertical-align: middle;\n",
              "    }\n",
              "\n",
              "    .dataframe tbody tr th {\n",
              "        vertical-align: top;\n",
              "    }\n",
              "\n",
              "    .dataframe thead th {\n",
              "        text-align: right;\n",
              "    }\n",
              "</style>\n",
              "<table border=\"1\" class=\"dataframe\">\n",
              "  <thead>\n",
              "    <tr style=\"text-align: right;\">\n",
              "      <th></th>\n",
              "      <th>temp</th>\n",
              "      <th>Calendar_date</th>\n",
              "    </tr>\n",
              "  </thead>\n",
              "  <tbody>\n",
              "    <tr>\n",
              "      <th>0</th>\n",
              "      <td>-1.4</td>\n",
              "      <td>20220101</td>\n",
              "    </tr>\n",
              "    <tr>\n",
              "      <th>1</th>\n",
              "      <td>1.9</td>\n",
              "      <td>20220102</td>\n",
              "    </tr>\n",
              "    <tr>\n",
              "      <th>2</th>\n",
              "      <td>3.6</td>\n",
              "      <td>20220103</td>\n",
              "    </tr>\n",
              "    <tr>\n",
              "      <th>3</th>\n",
              "      <td>0.6</td>\n",
              "      <td>20220104</td>\n",
              "    </tr>\n",
              "    <tr>\n",
              "      <th>4</th>\n",
              "      <td>-2.2</td>\n",
              "      <td>20220105</td>\n",
              "    </tr>\n",
              "    <tr>\n",
              "      <th>...</th>\n",
              "      <td>...</td>\n",
              "      <td>...</td>\n",
              "    </tr>\n",
              "    <tr>\n",
              "      <th>176</th>\n",
              "      <td>23.1</td>\n",
              "      <td>20220626</td>\n",
              "    </tr>\n",
              "    <tr>\n",
              "      <th>177</th>\n",
              "      <td>24.1</td>\n",
              "      <td>20220627</td>\n",
              "    </tr>\n",
              "    <tr>\n",
              "      <th>178</th>\n",
              "      <td>24.1</td>\n",
              "      <td>20220628</td>\n",
              "    </tr>\n",
              "    <tr>\n",
              "      <th>179</th>\n",
              "      <td>19.6</td>\n",
              "      <td>20220629</td>\n",
              "    </tr>\n",
              "    <tr>\n",
              "      <th>180</th>\n",
              "      <td>22.4</td>\n",
              "      <td>20220630</td>\n",
              "    </tr>\n",
              "  </tbody>\n",
              "</table>\n",
              "<p>181 rows × 2 columns</p>\n",
              "</div>\n",
              "    <div class=\"colab-df-buttons\">\n",
              "\n",
              "  <div class=\"colab-df-container\">\n",
              "    <button class=\"colab-df-convert\" onclick=\"convertToInteractive('df-13944a2f-8cf3-4ed8-ad6e-9c9385cb9404')\"\n",
              "            title=\"Convert this dataframe to an interactive table.\"\n",
              "            style=\"display:none;\">\n",
              "\n",
              "  <svg xmlns=\"http://www.w3.org/2000/svg\" height=\"24px\" viewBox=\"0 -960 960 960\">\n",
              "    <path d=\"M120-120v-720h720v720H120Zm60-500h600v-160H180v160Zm220 220h160v-160H400v160Zm0 220h160v-160H400v160ZM180-400h160v-160H180v160Zm440 0h160v-160H620v160ZM180-180h160v-160H180v160Zm440 0h160v-160H620v160Z\"/>\n",
              "  </svg>\n",
              "    </button>\n",
              "\n",
              "  <style>\n",
              "    .colab-df-container {\n",
              "      display:flex;\n",
              "      gap: 12px;\n",
              "    }\n",
              "\n",
              "    .colab-df-convert {\n",
              "      background-color: #E8F0FE;\n",
              "      border: none;\n",
              "      border-radius: 50%;\n",
              "      cursor: pointer;\n",
              "      display: none;\n",
              "      fill: #1967D2;\n",
              "      height: 32px;\n",
              "      padding: 0 0 0 0;\n",
              "      width: 32px;\n",
              "    }\n",
              "\n",
              "    .colab-df-convert:hover {\n",
              "      background-color: #E2EBFA;\n",
              "      box-shadow: 0px 1px 2px rgba(60, 64, 67, 0.3), 0px 1px 3px 1px rgba(60, 64, 67, 0.15);\n",
              "      fill: #174EA6;\n",
              "    }\n",
              "\n",
              "    .colab-df-buttons div {\n",
              "      margin-bottom: 4px;\n",
              "    }\n",
              "\n",
              "    [theme=dark] .colab-df-convert {\n",
              "      background-color: #3B4455;\n",
              "      fill: #D2E3FC;\n",
              "    }\n",
              "\n",
              "    [theme=dark] .colab-df-convert:hover {\n",
              "      background-color: #434B5C;\n",
              "      box-shadow: 0px 1px 3px 1px rgba(0, 0, 0, 0.15);\n",
              "      filter: drop-shadow(0px 1px 2px rgba(0, 0, 0, 0.3));\n",
              "      fill: #FFFFFF;\n",
              "    }\n",
              "  </style>\n",
              "\n",
              "    <script>\n",
              "      const buttonEl =\n",
              "        document.querySelector('#df-13944a2f-8cf3-4ed8-ad6e-9c9385cb9404 button.colab-df-convert');\n",
              "      buttonEl.style.display =\n",
              "        google.colab.kernel.accessAllowed ? 'block' : 'none';\n",
              "\n",
              "      async function convertToInteractive(key) {\n",
              "        const element = document.querySelector('#df-13944a2f-8cf3-4ed8-ad6e-9c9385cb9404');\n",
              "        const dataTable =\n",
              "          await google.colab.kernel.invokeFunction('convertToInteractive',\n",
              "                                                    [key], {});\n",
              "        if (!dataTable) return;\n",
              "\n",
              "        const docLinkHtml = 'Like what you see? Visit the ' +\n",
              "          '<a target=\"_blank\" href=https://colab.research.google.com/notebooks/data_table.ipynb>data table notebook</a>'\n",
              "          + ' to learn more about interactive tables.';\n",
              "        element.innerHTML = '';\n",
              "        dataTable['output_type'] = 'display_data';\n",
              "        await google.colab.output.renderOutput(dataTable, element);\n",
              "        const docLink = document.createElement('div');\n",
              "        docLink.innerHTML = docLinkHtml;\n",
              "        element.appendChild(docLink);\n",
              "      }\n",
              "    </script>\n",
              "  </div>\n",
              "\n",
              "\n",
              "<div id=\"df-cedaa9c2-a38f-40b3-9e82-2fc2dcbfc232\">\n",
              "  <button class=\"colab-df-quickchart\" onclick=\"quickchart('df-cedaa9c2-a38f-40b3-9e82-2fc2dcbfc232')\"\n",
              "            title=\"Suggest charts.\"\n",
              "            style=\"display:none;\">\n",
              "\n",
              "<svg xmlns=\"http://www.w3.org/2000/svg\" height=\"24px\"viewBox=\"0 0 24 24\"\n",
              "     width=\"24px\">\n",
              "    <g>\n",
              "        <path d=\"M19 3H5c-1.1 0-2 .9-2 2v14c0 1.1.9 2 2 2h14c1.1 0 2-.9 2-2V5c0-1.1-.9-2-2-2zM9 17H7v-7h2v7zm4 0h-2V7h2v10zm4 0h-2v-4h2v4z\"/>\n",
              "    </g>\n",
              "</svg>\n",
              "  </button>\n",
              "\n",
              "<style>\n",
              "  .colab-df-quickchart {\n",
              "      --bg-color: #E8F0FE;\n",
              "      --fill-color: #1967D2;\n",
              "      --hover-bg-color: #E2EBFA;\n",
              "      --hover-fill-color: #174EA6;\n",
              "      --disabled-fill-color: #AAA;\n",
              "      --disabled-bg-color: #DDD;\n",
              "  }\n",
              "\n",
              "  [theme=dark] .colab-df-quickchart {\n",
              "      --bg-color: #3B4455;\n",
              "      --fill-color: #D2E3FC;\n",
              "      --hover-bg-color: #434B5C;\n",
              "      --hover-fill-color: #FFFFFF;\n",
              "      --disabled-bg-color: #3B4455;\n",
              "      --disabled-fill-color: #666;\n",
              "  }\n",
              "\n",
              "  .colab-df-quickchart {\n",
              "    background-color: var(--bg-color);\n",
              "    border: none;\n",
              "    border-radius: 50%;\n",
              "    cursor: pointer;\n",
              "    display: none;\n",
              "    fill: var(--fill-color);\n",
              "    height: 32px;\n",
              "    padding: 0;\n",
              "    width: 32px;\n",
              "  }\n",
              "\n",
              "  .colab-df-quickchart:hover {\n",
              "    background-color: var(--hover-bg-color);\n",
              "    box-shadow: 0 1px 2px rgba(60, 64, 67, 0.3), 0 1px 3px 1px rgba(60, 64, 67, 0.15);\n",
              "    fill: var(--button-hover-fill-color);\n",
              "  }\n",
              "\n",
              "  .colab-df-quickchart-complete:disabled,\n",
              "  .colab-df-quickchart-complete:disabled:hover {\n",
              "    background-color: var(--disabled-bg-color);\n",
              "    fill: var(--disabled-fill-color);\n",
              "    box-shadow: none;\n",
              "  }\n",
              "\n",
              "  .colab-df-spinner {\n",
              "    border: 2px solid var(--fill-color);\n",
              "    border-color: transparent;\n",
              "    border-bottom-color: var(--fill-color);\n",
              "    animation:\n",
              "      spin 1s steps(1) infinite;\n",
              "  }\n",
              "\n",
              "  @keyframes spin {\n",
              "    0% {\n",
              "      border-color: transparent;\n",
              "      border-bottom-color: var(--fill-color);\n",
              "      border-left-color: var(--fill-color);\n",
              "    }\n",
              "    20% {\n",
              "      border-color: transparent;\n",
              "      border-left-color: var(--fill-color);\n",
              "      border-top-color: var(--fill-color);\n",
              "    }\n",
              "    30% {\n",
              "      border-color: transparent;\n",
              "      border-left-color: var(--fill-color);\n",
              "      border-top-color: var(--fill-color);\n",
              "      border-right-color: var(--fill-color);\n",
              "    }\n",
              "    40% {\n",
              "      border-color: transparent;\n",
              "      border-right-color: var(--fill-color);\n",
              "      border-top-color: var(--fill-color);\n",
              "    }\n",
              "    60% {\n",
              "      border-color: transparent;\n",
              "      border-right-color: var(--fill-color);\n",
              "    }\n",
              "    80% {\n",
              "      border-color: transparent;\n",
              "      border-right-color: var(--fill-color);\n",
              "      border-bottom-color: var(--fill-color);\n",
              "    }\n",
              "    90% {\n",
              "      border-color: transparent;\n",
              "      border-bottom-color: var(--fill-color);\n",
              "    }\n",
              "  }\n",
              "</style>\n",
              "\n",
              "  <script>\n",
              "    async function quickchart(key) {\n",
              "      const quickchartButtonEl =\n",
              "        document.querySelector('#' + key + ' button');\n",
              "      quickchartButtonEl.disabled = true;  // To prevent multiple clicks.\n",
              "      quickchartButtonEl.classList.add('colab-df-spinner');\n",
              "      try {\n",
              "        const charts = await google.colab.kernel.invokeFunction(\n",
              "            'suggestCharts', [key], {});\n",
              "      } catch (error) {\n",
              "        console.error('Error during call to suggestCharts:', error);\n",
              "      }\n",
              "      quickchartButtonEl.classList.remove('colab-df-spinner');\n",
              "      quickchartButtonEl.classList.add('colab-df-quickchart-complete');\n",
              "    }\n",
              "    (() => {\n",
              "      let quickchartButtonEl =\n",
              "        document.querySelector('#df-cedaa9c2-a38f-40b3-9e82-2fc2dcbfc232 button');\n",
              "      quickchartButtonEl.style.display =\n",
              "        google.colab.kernel.accessAllowed ? 'block' : 'none';\n",
              "    })();\n",
              "  </script>\n",
              "</div>\n",
              "    </div>\n",
              "  </div>\n"
            ]
          },
          "metadata": {},
          "execution_count": 42
        }
      ]
    },
    {
      "cell_type": "code",
      "source": [
        "# Merge df and Stockholmtemp2022\n",
        "Stockholmtemp2022[\"Calendar_date\"] = Stockholmtemp2022[\"Calendar_date\"].astype(int)\n",
        "df = pd.merge(df, Stockholmtemp2022, on='Calendar_date')\n",
        "df = df.drop(columns=['date'])\n",
        "df[\"Calendar_date\"] = pd.to_datetime(df['Calendar_date'], format='%Y%m%d')"
      ],
      "metadata": {
        "id": "N7NM31-Yjuu9"
      },
      "execution_count": 43,
      "outputs": []
    },
    {
      "cell_type": "code",
      "source": [],
      "metadata": {
        "id": "oZjB3k7aqwAl"
      },
      "execution_count": 43,
      "outputs": []
    },
    {
      "cell_type": "markdown",
      "source": [
        "# Data Exploration"
      ],
      "metadata": {
        "id": "xVD25OwOeaGY"
      }
    },
    {
      "cell_type": "code",
      "source": [
        "days = np.unique(df[['Calendar_date']].values.ravel())"
      ],
      "metadata": {
        "id": "oAggDJ3QAhdo"
      },
      "execution_count": 44,
      "outputs": []
    },
    {
      "cell_type": "code",
      "source": [
        "#higher frequency = more buses (or data measurements) that day\n",
        "df['Calendar_date'] = pd.to_datetime(df['Calendar_date'])\n",
        "date_freq = df.value_counts('Calendar_date')\n",
        "plt.figure(figsize=(10,5))\n",
        "calmap.yearplot(date_freq, year = 2022)\n",
        "date_freq"
      ],
      "metadata": {
        "id": "M6JRVCD6kBo3",
        "colab": {
          "base_uri": "https://localhost:8080/",
          "height": 384
        },
        "outputId": "a6fb4ebb-8566-4b17-fb60-312972eef184"
      },
      "execution_count": 45,
      "outputs": [
        {
          "output_type": "execute_result",
          "data": {
            "text/plain": [
              "Calendar_date\n",
              "2022-05-20    3969\n",
              "2022-04-06    3969\n",
              "2022-02-17    3969\n",
              "2022-05-16    3969\n",
              "2022-01-18    3969\n",
              "              ... \n",
              "2022-05-30     108\n",
              "2022-05-31      81\n",
              "2022-06-01      81\n",
              "2022-06-02      81\n",
              "2022-06-03      81\n",
              "Length: 173, dtype: int64"
            ]
          },
          "metadata": {},
          "execution_count": 45
        },
        {
          "output_type": "display_data",
          "data": {
            "text/plain": [
              "<Figure size 1000x500 with 1 Axes>"
            ],
            "image/png": "[encoded data removed]"
          },
          "metadata": {}
        }
      ]
    },
    {
      "cell_type": "code",
      "source": [
        "snow_by_day = df.groupby(df['Calendar_date'].dt.date)['factor(weather)Snow'].sum() > 0\n",
        "days_with_snow = snow_by_day[snow_by_day].index\n",
        "print(\"Days with snow:\")\n",
        "for day in days_with_snow:\n",
        "    print(day)"
      ],
      "metadata": {
        "colab": {
          "base_uri": "https://localhost:8080/"
        },
        "id": "r3Wl6mUTZQ6O",
        "outputId": "9523bdc6-1428-4046-b9bf-fddce87c51d0"
      },
      "execution_count": 46,
      "outputs": [
        {
          "output_type": "stream",
          "name": "stdout",
          "text": [
            "Days with snow:\n",
            "2022-02-08\n",
            "2022-02-19\n",
            "2022-02-21\n",
            "2022-03-29\n",
            "2022-04-01\n",
            "2022-04-05\n",
            "2022-04-07\n",
            "2022-04-08\n",
            "2022-04-09\n"
          ]
        }
      ]
    },
    {
      "cell_type": "code",
      "source": [
        "lightsnow_by_day = df.groupby(df['Calendar_date'].dt.date)['factor(weather)Light_Snow'].sum() > 0\n",
        "days_with_lightsnow = lightsnow_by_day[lightsnow_by_day].index\n",
        "print(\"Days with light snow:\")\n",
        "for day in days_with_lightsnow:\n",
        "    print(day)"
      ],
      "metadata": {
        "colab": {
          "base_uri": "https://localhost:8080/"
        },
        "id": "aYhqzHRUaGix",
        "outputId": "9fb9d5af-f0fd-41ad-cc7d-396abbb9eb42"
      },
      "execution_count": 47,
      "outputs": [
        {
          "output_type": "stream",
          "name": "stdout",
          "text": [
            "Days with light snow:\n",
            "2022-01-08\n",
            "2022-01-17\n",
            "2022-01-29\n",
            "2022-01-30\n",
            "2022-02-01\n",
            "2022-02-02\n",
            "2022-02-08\n",
            "2022-02-17\n",
            "2022-02-19\n",
            "2022-02-21\n",
            "2022-02-23\n",
            "2022-03-31\n",
            "2022-04-01\n",
            "2022-04-04\n",
            "2022-04-07\n",
            "2022-04-08\n",
            "2022-04-09\n"
          ]
        }
      ]
    },
    {
      "cell_type": "code",
      "source": [
        "rain_by_day = df.groupby(df['Calendar_date'].dt.date)['factor(weather)Rain'].sum() > 0\n",
        "days_with_rain = rain_by_day[rain_by_day].index\n",
        "print(\"Days with rain:\")\n",
        "for day in days_with_rain:\n",
        "    print(day)"
      ],
      "metadata": {
        "colab": {
          "base_uri": "https://localhost:8080/"
        },
        "id": "YXvXBVFHc2TW",
        "outputId": "e780b084-ee51-47f3-b92f-29c0be1d69ac"
      },
      "execution_count": 48,
      "outputs": [
        {
          "output_type": "stream",
          "name": "stdout",
          "text": [
            "Days with rain:\n",
            "2022-01-29\n",
            "2022-02-16\n",
            "2022-04-07\n",
            "2022-05-07\n",
            "2022-05-11\n",
            "2022-05-14\n",
            "2022-05-20\n",
            "2022-05-27\n",
            "2022-05-28\n"
          ]
        }
      ]
    },
    {
      "cell_type": "code",
      "source": [
        "extracold_by_day = df.groupby(df['Calendar_date'].dt.date)['factor(temperature)Extra_cold'].sum() > 0\n",
        "days_with_extracold = extracold_by_day[extracold_by_day].index\n",
        "print(\"Extra cold days:\")\n",
        "for day in days_with_extracold:\n",
        "    print(day)\n"
      ],
      "metadata": {
        "id": "TUZW2nTyescR",
        "outputId": "abe26f1c-ff91-41c1-aad9-4bc76f77910b",
        "colab": {
          "base_uri": "https://localhost:8080/"
        }
      },
      "execution_count": 49,
      "outputs": [
        {
          "output_type": "stream",
          "name": "stdout",
          "text": [
            "Extra cold days:\n",
            "2022-01-22\n",
            "2022-01-25\n",
            "2022-02-01\n",
            "2022-02-02\n",
            "2022-02-22\n",
            "2022-02-23\n",
            "2022-03-04\n",
            "2022-03-05\n",
            "2022-03-09\n",
            "2022-03-12\n",
            "2022-03-13\n",
            "2022-03-14\n",
            "2022-03-16\n",
            "2022-03-29\n",
            "2022-03-31\n",
            "2022-04-01\n",
            "2022-04-02\n"
          ]
        }
      ]
    },
    {
      "cell_type": "code",
      "source": [
        "#We will remove this trip as an outlier since it is one hour early\n",
        "df_new = df[(df['Calendar_date'] != '2022-06-30') | (df['bus_id']!=41361)]\n",
        "#df_new.to_csv('clean_dataPT.csv')"
      ],
      "metadata": {
        "id": "_0WJhKCEpCP8"
      },
      "execution_count": 50,
      "outputs": []
    },
    {
      "cell_type": "code",
      "source": [
        "#assign a trip id per trip, since bus id repeats itself within a day sometimes\n",
        "df_new['trip_id'] = df_new.index // 27 + 1\n",
        "df_new['trip_id']"
      ],
      "metadata": {
        "id": "42rumcrtp5ae",
        "outputId": "a3c6081f-7dfa-475a-d148-a3b8140392bf",
        "colab": {
          "base_uri": "https://localhost:8080/"
        }
      },
      "execution_count": 51,
      "outputs": [
        {
          "output_type": "stream",
          "name": "stderr",
          "text": [
            "<ipython-input-51-6b86ea210639>:2: SettingWithCopyWarning: \n",
            "A value is trying to be set on a copy of a slice from a DataFrame.\n",
            "Try using .loc[row_indexer,col_indexer] = value instead\n",
            "\n",
            "See the caveats in the documentation: https://pandas.pydata.org/pandas-docs/stable/user_guide/indexing.html#returning-a-view-versus-a-copy\n",
            "  df_new['trip_id'] = df_new.index // 27 + 1\n"
          ]
        },
        {
          "output_type": "execute_result",
          "data": {
            "text/plain": [
              "0             1\n",
              "1             1\n",
              "2             1\n",
              "3             1\n",
              "4             1\n",
              "          ...  \n",
              "545098    20189\n",
              "545099    20189\n",
              "545100    20189\n",
              "545101    20189\n",
              "545102    20189\n",
              "Name: trip_id, Length: 545076, dtype: int64"
            ]
          },
          "metadata": {},
          "execution_count": 51
        }
      ]
    },
    {
      "cell_type": "code",
      "source": [
        "#check if the above worked how we want it\n",
        "df_new.groupby(['Calendar_date','bus_id','stop_sequence','trip_id'])['dwell_time'].count().sort_values()"
      ],
      "metadata": {
        "id": "DkbAFsHfukEd",
        "outputId": "b38b0014-b313-4297-e937-4e8185067adf",
        "colab": {
          "base_uri": "https://localhost:8080/"
        }
      },
      "execution_count": 52,
      "outputs": [
        {
          "output_type": "execute_result",
          "data": {
            "text/plain": [
              "Calendar_date  bus_id  stop_sequence  trip_id\n",
              "2022-01-08     41344   1              1          1\n",
              "2022-04-26     45533   1              13352      1\n",
              "               45532   27             13470      1\n",
              "                                      13452      1\n",
              "                                      13429      1\n",
              "                                                ..\n",
              "2022-03-02     41727   21             6714       1\n",
              "                                      6697       1\n",
              "                                      6676       1\n",
              "                       22             6783       1\n",
              "2022-06-30     45722   27             20149      1\n",
              "Name: dwell_time, Length: 545076, dtype: int64"
            ]
          },
          "metadata": {},
          "execution_count": 52
        }
      ]
    },
    {
      "cell_type": "code",
      "source": [
        "#remove irrelevant columns. temperature related columns deemed irrelavant because we imported numeric temp data\n",
        "df_new = df_new.drop(['route_id','temperature','factor(temperature)Cold','factor(temperature)Extra_cold','factor(temperature)Normal'], axis = 1)"
      ],
      "metadata": {
        "id": "8gNgaRUYvZdJ"
      },
      "execution_count": 53,
      "outputs": []
    },
    {
      "cell_type": "code",
      "source": [
        "df_new"
      ],
      "metadata": {
        "id": "RcZMKMDhxsC9",
        "outputId": "f4925363-c68b-4de8-c83c-d3080d5a9045",
        "colab": {
          "base_uri": "https://localhost:8080/",
          "height": 461
        }
      },
      "execution_count": 54,
      "outputs": [
        {
          "output_type": "execute_result",
          "data": {
            "text/plain": [
              "       Calendar_date  bus_id  stop_sequence  arrival_delay  dwell_time  \\\n",
              "0         2022-01-08   41344              1            151           0   \n",
              "1         2022-01-08   41344              2            185          24   \n",
              "2         2022-01-08   41344              3            186           0   \n",
              "3         2022-01-08   41344              4            202          12   \n",
              "4         2022-01-08   41344              5            242          21   \n",
              "...              ...     ...            ...            ...         ...   \n",
              "545098    2022-06-30   41362             23            344          13   \n",
              "545099    2022-06-30   41362             24            330          15   \n",
              "545100    2022-06-30   41362             25            339          17   \n",
              "545101    2022-06-30   41362             26            331           0   \n",
              "545102    2022-06-30   41362             27            264           0   \n",
              "\n",
              "        travel_time_for_previous_section  scheduled_travel_time  \\\n",
              "0                                      0                    120   \n",
              "1                                    171                     45   \n",
              "2                                     55                     41   \n",
              "3                                     42                     94   \n",
              "4                                     98                     86   \n",
              "...                                  ...                    ...   \n",
              "545098                                74                     44   \n",
              "545099                                34                     92   \n",
              "545100                                63                     43   \n",
              "545101                                35                     58   \n",
              "545102                                50                    107   \n",
              "\n",
              "        upstream_stop_delay  origin_delay  previous_bus_delay  ...  \\\n",
              "0                       100           100                 160  ...   \n",
              "1                       151           100                 198  ...   \n",
              "2                       185           100                 189  ...   \n",
              "3                       186           100                 200  ...   \n",
              "4                       202           100                 256  ...   \n",
              "...                     ...           ...                 ...  ...   \n",
              "545098                  341            12                  47  ...   \n",
              "545099                  344            12                  68  ...   \n",
              "545100                  330            12                  69  ...   \n",
              "545101                  339            12                  79  ...   \n",
              "545102                  331            12                  42  ...   \n",
              "\n",
              "        factor(weather)Rain  factor(weather)Snow  factor(day_of_week)weekday  \\\n",
              "0                         0                    0                           0   \n",
              "1                         0                    0                           0   \n",
              "2                         0                    0                           0   \n",
              "3                         0                    0                           0   \n",
              "4                         0                    0                           0   \n",
              "...                     ...                  ...                         ...   \n",
              "545098                    0                    0                           1   \n",
              "545099                    0                    0                           1   \n",
              "545100                    0                    0                           1   \n",
              "545101                    0                    0                           1   \n",
              "545102                    0                    0                           1   \n",
              "\n",
              "       factor(day_of_week)weekend factor(time_of_day)Afternoon_peak  \\\n",
              "0                               1                                 0   \n",
              "1                               1                                 0   \n",
              "2                               1                                 0   \n",
              "3                               1                                 0   \n",
              "4                               1                                 0   \n",
              "...                           ...                               ...   \n",
              "545098                          0                                 0   \n",
              "545099                          0                                 0   \n",
              "545100                          0                                 0   \n",
              "545101                          0                                 0   \n",
              "545102                          0                                 0   \n",
              "\n",
              "       factor(time_of_day)Morning_peak  factor(time_of_day)Off-peak  Season  \\\n",
              "0                                    0                            1  Winter   \n",
              "1                                    0                            1  Winter   \n",
              "2                                    0                            1  Winter   \n",
              "3                                    0                            1  Winter   \n",
              "4                                    0                            1  Winter   \n",
              "...                                ...                          ...     ...   \n",
              "545098                               0                            1  Summer   \n",
              "545099                               0                            1  Summer   \n",
              "545100                               0                            1  Summer   \n",
              "545101                               0                            1  Summer   \n",
              "545102                               0                            1  Summer   \n",
              "\n",
              "        temp  trip_id  \n",
              "0       -0.5        1  \n",
              "1       -0.5        1  \n",
              "2       -0.5        1  \n",
              "3       -0.5        1  \n",
              "4       -0.5        1  \n",
              "...      ...      ...  \n",
              "545098  22.4    20189  \n",
              "545099  22.4    20189  \n",
              "545100  22.4    20189  \n",
              "545101  22.4    20189  \n",
              "545102  22.4    20189  \n",
              "\n",
              "[545076 rows x 29 columns]"
            ],
            "text/html": [
              "\n",
              "  <div id=\"df-8371311b-f95c-4549-a7e2-fdffcbcf718d\" class=\"colab-df-container\">\n",
              "    <div>\n",
              "<style scoped>\n",
              "    .dataframe tbody tr th:only-of-type {\n",
              "        vertical-align: middle;\n",
              "    }\n",
              "\n",
              "    .dataframe tbody tr th {\n",
              "        vertical-align: top;\n",
              "    }\n",
              "\n",
              "    .dataframe thead th {\n",
              "        text-align: right;\n",
              "    }\n",
              "</style>\n",
              "<table border=\"1\" class=\"dataframe\">\n",
              "  <thead>\n",
              "    <tr style=\"text-align: right;\">\n",
              "      <th></th>\n",
              "      <th>Calendar_date</th>\n",
              "      <th>bus_id</th>\n",
              "      <th>stop_sequence</th>\n",
              "      <th>arrival_delay</th>\n",
              "      <th>dwell_time</th>\n",
              "      <th>travel_time_for_previous_section</th>\n",
              "      <th>scheduled_travel_time</th>\n",
              "      <th>upstream_stop_delay</th>\n",
              "      <th>origin_delay</th>\n",
              "      <th>previous_bus_delay</th>\n",
              "      <th>...</th>\n",
              "      <th>factor(weather)Rain</th>\n",
              "      <th>factor(weather)Snow</th>\n",
              "      <th>factor(day_of_week)weekday</th>\n",
              "      <th>factor(day_of_week)weekend</th>\n",
              "      <th>factor(time_of_day)Afternoon_peak</th>\n",
              "      <th>factor(time_of_day)Morning_peak</th>\n",
              "      <th>factor(time_of_day)Off-peak</th>\n",
              "      <th>Season</th>\n",
              "      <th>temp</th>\n",
              "      <th>trip_id</th>\n",
              "    </tr>\n",
              "  </thead>\n",
              "  <tbody>\n",
              "    <tr>\n",
              "      <th>0</th>\n",
              "      <td>2022-01-08</td>\n",
              "      <td>41344</td>\n",
              "      <td>1</td>\n",
              "      <td>151</td>\n",
              "      <td>0</td>\n",
              "      <td>0</td>\n",
              "      <td>120</td>\n",
              "      <td>100</td>\n",
              "      <td>100</td>\n",
              "      <td>160</td>\n",
              "      <td>...</td>\n",
              "      <td>0</td>\n",
              "      <td>0</td>\n",
              "      <td>0</td>\n",
              "      <td>1</td>\n",
              "      <td>0</td>\n",
              "      <td>0</td>\n",
              "      <td>1</td>\n",
              "      <td>Winter</td>\n",
              "      <td>-0.5</td>\n",
              "      <td>1</td>\n",
              "    </tr>\n",
              "    <tr>\n",
              "      <th>1</th>\n",
              "      <td>2022-01-08</td>\n",
              "      <td>41344</td>\n",
              "      <td>2</td>\n",
              "      <td>185</td>\n",
              "      <td>24</td>\n",
              "      <td>171</td>\n",
              "      <td>45</td>\n",
              "      <td>151</td>\n",
              "      <td>100</td>\n",
              "      <td>198</td>\n",
              "      <td>...</td>\n",
              "      <td>0</td>\n",
              "      <td>0</td>\n",
              "      <td>0</td>\n",
              "      <td>1</td>\n",
              "      <td>0</td>\n",
              "      <td>0</td>\n",
              "      <td>1</td>\n",
              "      <td>Winter</td>\n",
              "      <td>-0.5</td>\n",
              "      <td>1</td>\n",
              "    </tr>\n",
              "    <tr>\n",
              "      <th>2</th>\n",
              "      <td>2022-01-08</td>\n",
              "      <td>41344</td>\n",
              "      <td>3</td>\n",
              "      <td>186</td>\n",
              "      <td>0</td>\n",
              "      <td>55</td>\n",
              "      <td>41</td>\n",
              "      <td>185</td>\n",
              "      <td>100</td>\n",
              "      <td>189</td>\n",
              "      <td>...</td>\n",
              "      <td>0</td>\n",
              "      <td>0</td>\n",
              "      <td>0</td>\n",
              "      <td>1</td>\n",
              "      <td>0</td>\n",
              "      <td>0</td>\n",
              "      <td>1</td>\n",
              "      <td>Winter</td>\n",
              "      <td>-0.5</td>\n",
              "      <td>1</td>\n",
              "    </tr>\n",
              "    <tr>\n",
              "      <th>3</th>\n",
              "      <td>2022-01-08</td>\n",
              "      <td>41344</td>\n",
              "      <td>4</td>\n",
              "      <td>202</td>\n",
              "      <td>12</td>\n",
              "      <td>42</td>\n",
              "      <td>94</td>\n",
              "      <td>186</td>\n",
              "      <td>100</td>\n",
              "      <td>200</td>\n",
              "      <td>...</td>\n",
              "      <td>0</td>\n",
              "      <td>0</td>\n",
              "      <td>0</td>\n",
              "      <td>1</td>\n",
              "      <td>0</td>\n",
              "      <td>0</td>\n",
              "      <td>1</td>\n",
              "      <td>Winter</td>\n",
              "      <td>-0.5</td>\n",
              "      <td>1</td>\n",
              "    </tr>\n",
              "    <tr>\n",
              "      <th>4</th>\n",
              "      <td>2022-01-08</td>\n",
              "      <td>41344</td>\n",
              "      <td>5</td>\n",
              "      <td>242</td>\n",
              "      <td>21</td>\n",
              "      <td>98</td>\n",
              "      <td>86</td>\n",
              "      <td>202</td>\n",
              "      <td>100</td>\n",
              "      <td>256</td>\n",
              "      <td>...</td>\n",
              "      <td>0</td>\n",
              "      <td>0</td>\n",
              "      <td>0</td>\n",
              "      <td>1</td>\n",
              "      <td>0</td>\n",
              "      <td>0</td>\n",
              "      <td>1</td>\n",
              "      <td>Winter</td>\n",
              "      <td>-0.5</td>\n",
              "      <td>1</td>\n",
              "    </tr>\n",
              "    <tr>\n",
              "      <th>...</th>\n",
              "      <td>...</td>\n",
              "      <td>...</td>\n",
              "      <td>...</td>\n",
              "      <td>...</td>\n",
              "      <td>...</td>\n",
              "      <td>...</td>\n",
              "      <td>...</td>\n",
              "      <td>...</td>\n",
              "      <td>...</td>\n",
              "      <td>...</td>\n",
              "      <td>...</td>\n",
              "      <td>...</td>\n",
              "      <td>...</td>\n",
              "      <td>...</td>\n",
              "      <td>...</td>\n",
              "      <td>...</td>\n",
              "      <td>...</td>\n",
              "      <td>...</td>\n",
              "      <td>...</td>\n",
              "      <td>...</td>\n",
              "      <td>...</td>\n",
              "    </tr>\n",
              "    <tr>\n",
              "      <th>545098</th>\n",
              "      <td>2022-06-30</td>\n",
              "      <td>41362</td>\n",
              "      <td>23</td>\n",
              "      <td>344</td>\n",
              "      <td>13</td>\n",
              "      <td>74</td>\n",
              "      <td>44</td>\n",
              "      <td>341</td>\n",
              "      <td>12</td>\n",
              "      <td>47</td>\n",
              "      <td>...</td>\n",
              "      <td>0</td>\n",
              "      <td>0</td>\n",
              "      <td>1</td>\n",
              "      <td>0</td>\n",
              "      <td>0</td>\n",
              "      <td>0</td>\n",
              "      <td>1</td>\n",
              "      <td>Summer</td>\n",
              "      <td>22.4</td>\n",
              "      <td>20189</td>\n",
              "    </tr>\n",
              "    <tr>\n",
              "      <th>545099</th>\n",
              "      <td>2022-06-30</td>\n",
              "      <td>41362</td>\n",
              "      <td>24</td>\n",
              "      <td>330</td>\n",
              "      <td>15</td>\n",
              "      <td>34</td>\n",
              "      <td>92</td>\n",
              "      <td>344</td>\n",
              "      <td>12</td>\n",
              "      <td>68</td>\n",
              "      <td>...</td>\n",
              "      <td>0</td>\n",
              "      <td>0</td>\n",
              "      <td>1</td>\n",
              "      <td>0</td>\n",
              "      <td>0</td>\n",
              "      <td>0</td>\n",
              "      <td>1</td>\n",
              "      <td>Summer</td>\n",
              "      <td>22.4</td>\n",
              "      <td>20189</td>\n",
              "    </tr>\n",
              "    <tr>\n",
              "      <th>545100</th>\n",
              "      <td>2022-06-30</td>\n",
              "      <td>41362</td>\n",
              "      <td>25</td>\n",
              "      <td>339</td>\n",
              "      <td>17</td>\n",
              "      <td>63</td>\n",
              "      <td>43</td>\n",
              "      <td>330</td>\n",
              "      <td>12</td>\n",
              "      <td>69</td>\n",
              "      <td>...</td>\n",
              "      <td>0</td>\n",
              "      <td>0</td>\n",
              "      <td>1</td>\n",
              "      <td>0</td>\n",
              "      <td>0</td>\n",
              "      <td>0</td>\n",
              "      <td>1</td>\n",
              "      <td>Summer</td>\n",
              "      <td>22.4</td>\n",
              "      <td>20189</td>\n",
              "    </tr>\n",
              "    <tr>\n",
              "      <th>545101</th>\n",
              "      <td>2022-06-30</td>\n",
              "      <td>41362</td>\n",
              "      <td>26</td>\n",
              "      <td>331</td>\n",
              "      <td>0</td>\n",
              "      <td>35</td>\n",
              "      <td>58</td>\n",
              "      <td>339</td>\n",
              "      <td>12</td>\n",
              "      <td>79</td>\n",
              "      <td>...</td>\n",
              "      <td>0</td>\n",
              "      <td>0</td>\n",
              "      <td>1</td>\n",
              "      <td>0</td>\n",
              "      <td>0</td>\n",
              "      <td>0</td>\n",
              "      <td>1</td>\n",
              "      <td>Summer</td>\n",
              "      <td>22.4</td>\n",
              "      <td>20189</td>\n",
              "    </tr>\n",
              "    <tr>\n",
              "      <th>545102</th>\n",
              "      <td>2022-06-30</td>\n",
              "      <td>41362</td>\n",
              "      <td>27</td>\n",
              "      <td>264</td>\n",
              "      <td>0</td>\n",
              "      <td>50</td>\n",
              "      <td>107</td>\n",
              "      <td>331</td>\n",
              "      <td>12</td>\n",
              "      <td>42</td>\n",
              "      <td>...</td>\n",
              "      <td>0</td>\n",
              "      <td>0</td>\n",
              "      <td>1</td>\n",
              "      <td>0</td>\n",
              "      <td>0</td>\n",
              "      <td>0</td>\n",
              "      <td>1</td>\n",
              "      <td>Summer</td>\n",
              "      <td>22.4</td>\n",
              "      <td>20189</td>\n",
              "    </tr>\n",
              "  </tbody>\n",
              "</table>\n",
              "<p>545076 rows × 29 columns</p>\n",
              "</div>\n",
              "    <div class=\"colab-df-buttons\">\n",
              "\n",
              "  <div class=\"colab-df-container\">\n",
              "    <button class=\"colab-df-convert\" onclick=\"convertToInteractive('df-8371311b-f95c-4549-a7e2-fdffcbcf718d')\"\n",
              "            title=\"Convert this dataframe to an interactive table.\"\n",
              "            style=\"display:none;\">\n",
              "\n",
              "  <svg xmlns=\"http://www.w3.org/2000/svg\" height=\"24px\" viewBox=\"0 -960 960 960\">\n",
              "    <path d=\"M120-120v-720h720v720H120Zm60-500h600v-160H180v160Zm220 220h160v-160H400v160Zm0 220h160v-160H400v160ZM180-400h160v-160H180v160Zm440 0h160v-160H620v160ZM180-180h160v-160H180v160Zm440 0h160v-160H620v160Z\"/>\n",
              "  </svg>\n",
              "    </button>\n",
              "\n",
              "  <style>\n",
              "    .colab-df-container {\n",
              "      display:flex;\n",
              "      gap: 12px;\n",
              "    }\n",
              "\n",
              "    .colab-df-convert {\n",
              "      background-color: #E8F0FE;\n",
              "      border: none;\n",
              "      border-radius: 50%;\n",
              "      cursor: pointer;\n",
              "      display: none;\n",
              "      fill: #1967D2;\n",
              "      height: 32px;\n",
              "      padding: 0 0 0 0;\n",
              "      width: 32px;\n",
              "    }\n",
              "\n",
              "    .colab-df-convert:hover {\n",
              "      background-color: #E2EBFA;\n",
              "      box-shadow: 0px 1px 2px rgba(60, 64, 67, 0.3), 0px 1px 3px 1px rgba(60, 64, 67, 0.15);\n",
              "      fill: #174EA6;\n",
              "    }\n",
              "\n",
              "    .colab-df-buttons div {\n",
              "      margin-bottom: 4px;\n",
              "    }\n",
              "\n",
              "    [theme=dark] .colab-df-convert {\n",
              "      background-color: #3B4455;\n",
              "      fill: #D2E3FC;\n",
              "    }\n",
              "\n",
              "    [theme=dark] .colab-df-convert:hover {\n",
              "      background-color: #434B5C;\n",
              "      box-shadow: 0px 1px 3px 1px rgba(0, 0, 0, 0.15);\n",
              "      filter: drop-shadow(0px 1px 2px rgba(0, 0, 0, 0.3));\n",
              "      fill: #FFFFFF;\n",
              "    }\n",
              "  </style>\n",
              "\n",
              "    <script>\n",
              "      const buttonEl =\n",
              "        document.querySelector('#df-8371311b-f95c-4549-a7e2-fdffcbcf718d button.colab-df-convert');\n",
              "      buttonEl.style.display =\n",
              "        google.colab.kernel.accessAllowed ? 'block' : 'none';\n",
              "\n",
              "      async function convertToInteractive(key) {\n",
              "        const element = document.querySelector('#df-8371311b-f95c-4549-a7e2-fdffcbcf718d');\n",
              "        const dataTable =\n",
              "          await google.colab.kernel.invokeFunction('convertToInteractive',\n",
              "                                                    [key], {});\n",
              "        if (!dataTable) return;\n",
              "\n",
              "        const docLinkHtml = 'Like what you see? Visit the ' +\n",
              "          '<a target=\"_blank\" href=https://colab.research.google.com/notebooks/data_table.ipynb>data table notebook</a>'\n",
              "          + ' to learn more about interactive tables.';\n",
              "        element.innerHTML = '';\n",
              "        dataTable['output_type'] = 'display_data';\n",
              "        await google.colab.output.renderOutput(dataTable, element);\n",
              "        const docLink = document.createElement('div');\n",
              "        docLink.innerHTML = docLinkHtml;\n",
              "        element.appendChild(docLink);\n",
              "      }\n",
              "    </script>\n",
              "  </div>\n",
              "\n",
              "\n",
              "<div id=\"df-3bfdc882-6f86-4d51-9bc2-d9748cec9882\">\n",
              "  <button class=\"colab-df-quickchart\" onclick=\"quickchart('df-3bfdc882-6f86-4d51-9bc2-d9748cec9882')\"\n",
              "            title=\"Suggest charts.\"\n",
              "            style=\"display:none;\">\n",
              "\n",
              "<svg xmlns=\"http://www.w3.org/2000/svg\" height=\"24px\"viewBox=\"0 0 24 24\"\n",
              "     width=\"24px\">\n",
              "    <g>\n",
              "        <path d=\"M19 3H5c-1.1 0-2 .9-2 2v14c0 1.1.9 2 2 2h14c1.1 0 2-.9 2-2V5c0-1.1-.9-2-2-2zM9 17H7v-7h2v7zm4 0h-2V7h2v10zm4 0h-2v-4h2v4z\"/>\n",
              "    </g>\n",
              "</svg>\n",
              "  </button>\n",
              "\n",
              "<style>\n",
              "  .colab-df-quickchart {\n",
              "      --bg-color: #E8F0FE;\n",
              "      --fill-color: #1967D2;\n",
              "      --hover-bg-color: #E2EBFA;\n",
              "      --hover-fill-color: #174EA6;\n",
              "      --disabled-fill-color: #AAA;\n",
              "      --disabled-bg-color: #DDD;\n",
              "  }\n",
              "\n",
              "  [theme=dark] .colab-df-quickchart {\n",
              "      --bg-color: #3B4455;\n",
              "      --fill-color: #D2E3FC;\n",
              "      --hover-bg-color: #434B5C;\n",
              "      --hover-fill-color: #FFFFFF;\n",
              "      --disabled-bg-color: #3B4455;\n",
              "      --disabled-fill-color: #666;\n",
              "  }\n",
              "\n",
              "  .colab-df-quickchart {\n",
              "    background-color: var(--bg-color);\n",
              "    border: none;\n",
              "    border-radius: 50%;\n",
              "    cursor: pointer;\n",
              "    display: none;\n",
              "    fill: var(--fill-color);\n",
              "    height: 32px;\n",
              "    padding: 0;\n",
              "    width: 32px;\n",
              "  }\n",
              "\n",
              "  .colab-df-quickchart:hover {\n",
              "    background-color: var(--hover-bg-color);\n",
              "    box-shadow: 0 1px 2px rgba(60, 64, 67, 0.3), 0 1px 3px 1px rgba(60, 64, 67, 0.15);\n",
              "    fill: var(--button-hover-fill-color);\n",
              "  }\n",
              "\n",
              "  .colab-df-quickchart-complete:disabled,\n",
              "  .colab-df-quickchart-complete:disabled:hover {\n",
              "    background-color: var(--disabled-bg-color);\n",
              "    fill: var(--disabled-fill-color);\n",
              "    box-shadow: none;\n",
              "  }\n",
              "\n",
              "  .colab-df-spinner {\n",
              "    border: 2px solid var(--fill-color);\n",
              "    border-color: transparent;\n",
              "    border-bottom-color: var(--fill-color);\n",
              "    animation:\n",
              "      spin 1s steps(1) infinite;\n",
              "  }\n",
              "\n",
              "  @keyframes spin {\n",
              "    0% {\n",
              "      border-color: transparent;\n",
              "      border-bottom-color: var(--fill-color);\n",
              "      border-left-color: var(--fill-color);\n",
              "    }\n",
              "    20% {\n",
              "      border-color: transparent;\n",
              "      border-left-color: var(--fill-color);\n",
              "      border-top-color: var(--fill-color);\n",
              "    }\n",
              "    30% {\n",
              "      border-color: transparent;\n",
              "      border-left-color: var(--fill-color);\n",
              "      border-top-color: var(--fill-color);\n",
              "      border-right-color: var(--fill-color);\n",
              "    }\n",
              "    40% {\n",
              "      border-color: transparent;\n",
              "      border-right-color: var(--fill-color);\n",
              "      border-top-color: var(--fill-color);\n",
              "    }\n",
              "    60% {\n",
              "      border-color: transparent;\n",
              "      border-right-color: var(--fill-color);\n",
              "    }\n",
              "    80% {\n",
              "      border-color: transparent;\n",
              "      border-right-color: var(--fill-color);\n",
              "      border-bottom-color: var(--fill-color);\n",
              "    }\n",
              "    90% {\n",
              "      border-color: transparent;\n",
              "      border-bottom-color: var(--fill-color);\n",
              "    }\n",
              "  }\n",
              "</style>\n",
              "\n",
              "  <script>\n",
              "    async function quickchart(key) {\n",
              "      const quickchartButtonEl =\n",
              "        document.querySelector('#' + key + ' button');\n",
              "      quickchartButtonEl.disabled = true;  // To prevent multiple clicks.\n",
              "      quickchartButtonEl.classList.add('colab-df-spinner');\n",
              "      try {\n",
              "        const charts = await google.colab.kernel.invokeFunction(\n",
              "            'suggestCharts', [key], {});\n",
              "      } catch (error) {\n",
              "        console.error('Error during call to suggestCharts:', error);\n",
              "      }\n",
              "      quickchartButtonEl.classList.remove('colab-df-spinner');\n",
              "      quickchartButtonEl.classList.add('colab-df-quickchart-complete');\n",
              "    }\n",
              "    (() => {\n",
              "      let quickchartButtonEl =\n",
              "        document.querySelector('#df-3bfdc882-6f86-4d51-9bc2-d9748cec9882 button');\n",
              "      quickchartButtonEl.style.display =\n",
              "        google.colab.kernel.accessAllowed ? 'block' : 'none';\n",
              "    })();\n",
              "  </script>\n",
              "</div>\n",
              "    </div>\n",
              "  </div>\n"
            ]
          },
          "metadata": {},
          "execution_count": 54
        }
      ]
    },
    {
      "cell_type": "code",
      "source": [
        "#df_new.to_csv('clean_dataPT2.csv')"
      ],
      "metadata": {
        "id": "kLbLMpPeypXZ"
      },
      "execution_count": 55,
      "outputs": []
    },
    {
      "cell_type": "markdown",
      "source": [
        "#Clustering"
      ],
      "metadata": {
        "id": "0QlaaupTB9X6"
      }
    },
    {
      "cell_type": "code",
      "source": [
        "data = pd.read_csv('clean_dataPT2.csv')"
      ],
      "metadata": {
        "id": "oEiCoNrZ8MTc"
      },
      "execution_count": 86,
      "outputs": []
    },
    {
      "cell_type": "code",
      "source": [
        "df_test = data.groupby(['trip_id'])[['arrival_delay', 'dwell_time', 'traffic_condition', 'recurrent_delay', 'origin_delay', 'previous_bus_delay', 'factor(day_of_week)weekday', 'factor(time_of_day)Off-peak', 'temp','scheduled_travel_time']].mean()\n"
      ],
      "metadata": {
        "id": "m1CWw6ykFYEC"
      },
      "execution_count": 87,
      "outputs": []
    },
    {
      "cell_type": "code",
      "source": [
        "from sklearn.cluster import KMeans, AgglomerativeClustering, DBSCAN\n",
        "from sklearn.mixture import GaussianMixture"
      ],
      "metadata": {
        "id": "W0G7RBRmCCqg"
      },
      "execution_count": 88,
      "outputs": []
    },
    {
      "cell_type": "code",
      "source": [
        "%matplotlib inline\n",
        "from sklearn.decomposition import PCA\n",
        "from sklearn.preprocessing import StandardScaler"
      ],
      "metadata": {
        "id": "juAwTI1kx8fP"
      },
      "execution_count": 89,
      "outputs": []
    },
    {
      "cell_type": "code",
      "source": [
        "scaling=StandardScaler()\n",
        "\n",
        "# Use fit and transform method\n",
        "scaling.fit(df_test)\n",
        "Scaled_data=scaling.transform(df_test)\n",
        "\n",
        "# Set the n_components=3\n",
        "principal=PCA(n_components=2)\n",
        "principal.fit(Scaled_data)\n",
        "x=principal.transform(Scaled_data)\n",
        "\n",
        "# Check the dimensions of data after PCA\n",
        "print(x.shape)"
      ],
      "metadata": {
        "id": "48gzcAAYESaB",
        "outputId": "ef059d86-ad20-4317-eca2-01840eebc7bc",
        "colab": {
          "base_uri": "https://localhost:8080/"
        }
      },
      "execution_count": 90,
      "outputs": [
        {
          "output_type": "stream",
          "name": "stdout",
          "text": [
            "(20188, 2)\n"
          ]
        }
      ]
    },
    {
      "cell_type": "code",
      "source": [
        "plt.figure(figsize=(10,10))\n",
        "plt.xlim(-4,4)\n",
        "plt.ylim(-2.5,5)\n",
        "plt.scatter(x[:,0],x[:,1])"
      ],
      "metadata": {
        "id": "N7yM6U_eEbU-",
        "outputId": "b233c6a9-9f90-4f31-8b74-fdb07681ac31",
        "colab": {
          "base_uri": "https://localhost:8080/",
          "height": 853
        }
      },
      "execution_count": 91,
      "outputs": [
        {
          "output_type": "execute_result",
          "data": {
            "text/plain": [
              "<matplotlib.collections.PathCollection at 0x7b993a348be0>"
            ]
          },
          "metadata": {},
          "execution_count": 91
        },
        {
          "output_type": "display_data",
          "data": {
            "text/plain": [
              "<Figure size 1000x1000 with 1 Axes>"
            ],
            "image/png": "[encoded data removed]"
          },
          "metadata": {}
        }
      ]
    },
    {
      "cell_type": "code",
      "source": [
        "\"\"\"n_clusters = 2\n",
        "clusters = AgglomerativeClustering(n_clusters=n_clusters,metric='euclidean', linkage='ward').fit(data)\n",
        "\n",
        "cluster_labels = GaussianMixture(n_components=n_clusters).fit(df_new).predict(data)\"\"\""
      ],
      "metadata": {
        "colab": {
          "base_uri": "https://localhost:8080/",
          "height": 53
        },
        "id": "8M-oKAQDCNDK",
        "outputId": "fc861d27-1b03-428c-f935-07c91f11826f"
      },
      "execution_count": 92,
      "outputs": [
        {
          "output_type": "execute_result",
          "data": {
            "text/plain": [
              "\"n_clusters = 2\\nclusters = AgglomerativeClustering(n_clusters=n_clusters,metric='euclidean', linkage='ward').fit(data)\\n\\ncluster_labels = GaussianMixture(n_components=n_clusters).fit(df_new).predict(data)\""
            ],
            "application/vnd.google.colaboratory.intrinsic+json": {
              "type": "string"
            }
          },
          "metadata": {},
          "execution_count": 92
        }
      ]
    },
    {
      "cell_type": "code",
      "source": [
        "# BELOW lines enables you to comment in and out clustering method you want to use note that GMM have different ouput and thus labels are extracted differently\n",
        "#clusters = KMeans(n_clusters=5, random_state=0, n_init=\"auto\")# check the parameters at https://scikit-learn.org/stable/modules/generated/sklearn.cluster.KMeans.html\n",
        "#clusters.fit(x)\n",
        "clusters = AgglomerativeClustering(n_clusters=n_clusters,metric='euclidean', linkage='ward').fit(x) # check the parameters at https://scikit-learn.org/stable/modules/generated/sklearn.cluster.AgglomerativeClustering.html\n",
        "#clusters = DBSCAN(eps=500, min_samples = 2).fit(vectorized_day_dataset_no_nans) # check the parameters at https://scikit-learn.org/stable/modules/generated/sklearn.cluster.DBSCAN.html\n",
        "\n",
        "if clusters is not None:\n",
        " cluster_labels = clusters.labels_\n",
        "\n",
        "cluster_labels = GaussianMixture(n_components=n_clusters).fit(x).predict(x) #check the parameters at  https://scikit-learn.org/stable/auto_examples/mixture/plot_gmm_init.html#sphx-glr-auto-examples-mixture-plot-gmm-init-py\n",
        "\n",
        "\n",
        "print(cluster_labels)"
      ],
      "metadata": {
        "id": "Ktgz93a5M3qD",
        "outputId": "aed43b98-7a57-403e-a1af-771e3316d7e7",
        "colab": {
          "base_uri": "https://localhost:8080/"
        }
      },
      "execution_count": 93,
      "outputs": [
        {
          "output_type": "stream",
          "name": "stdout",
          "text": [
            "[0 0 0 ... 0 0 0]\n"
          ]
        }
      ]
    },
    {
      "cell_type": "code",
      "source": [],
      "metadata": {
        "id": "ZDtMn1dyNyMl"
      },
      "execution_count": 93,
      "outputs": []
    },
    {
      "cell_type": "markdown",
      "source": [
        "#Evaluation"
      ],
      "metadata": {
        "id": "zmmc3UqpCd4u"
      }
    },
    {
      "cell_type": "code",
      "source": [
        "from sklearn.metrics import calinski_harabasz_score, silhouette_score, davies_bouldin_score"
      ],
      "metadata": {
        "id": "SbxeGm-yChyl"
      },
      "execution_count": 94,
      "outputs": []
    },
    {
      "cell_type": "code",
      "source": [
        "# Import relevant metrics from scikit-learn\n",
        "from sklearn.metrics import calinski_harabasz_score, silhouette_score, davies_bouldin_score\n",
        "\n",
        "# Calculate the Silhouette Score\n",
        "SC_score = silhouette_score(x, cluster_labels)\n",
        "# Silhouette Score measures the quality of clusters, higher values indicate better separation.\n",
        "\n",
        "# Calculate the Davies-Bouldin Score\n",
        "DB_score = davies_bouldin_score(x, cluster_labels)\n",
        "# Davies-Bouldin Score measures the average similarity between each cluster and its most similar cluster, lower values indicate better separation.\n",
        "\n",
        "# Calculate the Calinski-Harabasz Score\n",
        "CH_score = calinski_harabasz_score(x, cluster_labels)\n",
        "# Calinski-Harabasz Score measures the ratio of between-cluster variance to within-cluster variance, higher values indicate better separation.\n",
        "\n",
        "# Print the computed cluster quality scores\n",
        "print('Silhouette Score:', SC_score)\n",
        "print('Davies-Bouldin Score:', DB_score)\n",
        "print('Calinski-Harabasz Score:', CH_score)"
      ],
      "metadata": {
        "id": "q3OOl7jxm5tl",
        "outputId": "82f28548-7d99-4496-98dd-c2c5a49cde89",
        "colab": {
          "base_uri": "https://localhost:8080/"
        }
      },
      "execution_count": 95,
      "outputs": [
        {
          "output_type": "stream",
          "name": "stdout",
          "text": [
            "Silhouette Score: 0.3585879850121437\n",
            "Davies-Bouldin Score: 1.3973742877292366\n",
            "Calinski-Harabasz Score: 5295.251016972726\n"
          ]
        }
      ]
    }
  ],
  "metadata": {
    "language_info": {
      "name": "python"
    },
    "orig_nbformat": 4,
    "colab": {
      "provenance": []
    },
    "kernelspec": {
      "name": "python3",
      "display_name": "Python 3"
    }
  },
  "nbformat": 4,
  "nbformat_minor": 0
}