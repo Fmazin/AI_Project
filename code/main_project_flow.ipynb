{
  "cells": [
    {
      "cell_type": "markdown",
      "metadata": {
        "id": "SdESlEndcVBB"
      },
      "source": [
        "# AH2179 Applied Artificial Intelligence in Transportation Group 5 Project\n",
        "### By Fabian Fermazin, William Öman, Itsuki Shindo"
      ]
    },
    {
      "cell_type": "code",
      "source": [
        "#pip install calmap"
      ],
      "metadata": {
        "colab": {
          "base_uri": "https://localhost:8080/"
        },
        "id": "JTbND57MZVkg",
        "outputId": "dc671e13-66fa-40db-8fc6-060f96622fd3"
      },
      "execution_count": null,
      "outputs": [
        {
          "output_type": "stream",
          "name": "stdout",
          "text": [
            "Requirement already satisfied: calmap in /usr/local/lib/python3.10/dist-packages (0.0.11)\n",
            "Requirement already satisfied: matplotlib in /usr/local/lib/python3.10/dist-packages (from calmap) (3.7.1)\n",
            "Requirement already satisfied: numpy in /usr/local/lib/python3.10/dist-packages (from calmap) (1.23.5)\n",
            "Requirement already satisfied: pandas in /usr/local/lib/python3.10/dist-packages (from calmap) (1.5.3)\n",
            "Requirement already satisfied: contourpy>=1.0.1 in /usr/local/lib/python3.10/dist-packages (from matplotlib->calmap) (1.1.0)\n",
            "Requirement already satisfied: cycler>=0.10 in /usr/local/lib/python3.10/dist-packages (from matplotlib->calmap) (0.11.0)\n",
            "Requirement already satisfied: fonttools>=4.22.0 in /usr/local/lib/python3.10/dist-packages (from matplotlib->calmap) (4.42.1)\n",
            "Requirement already satisfied: kiwisolver>=1.0.1 in /usr/local/lib/python3.10/dist-packages (from matplotlib->calmap) (1.4.5)\n",
            "Requirement already satisfied: packaging>=20.0 in /usr/local/lib/python3.10/dist-packages (from matplotlib->calmap) (23.1)\n",
            "Requirement already satisfied: pillow>=6.2.0 in /usr/local/lib/python3.10/dist-packages (from matplotlib->calmap) (9.4.0)\n",
            "Requirement already satisfied: pyparsing>=2.3.1 in /usr/local/lib/python3.10/dist-packages (from matplotlib->calmap) (3.1.1)\n",
            "Requirement already satisfied: python-dateutil>=2.7 in /usr/local/lib/python3.10/dist-packages (from matplotlib->calmap) (2.8.2)\n",
            "Requirement already satisfied: pytz>=2020.1 in /usr/local/lib/python3.10/dist-packages (from pandas->calmap) (2023.3.post1)\n",
            "Requirement already satisfied: six>=1.5 in /usr/local/lib/python3.10/dist-packages (from python-dateutil>=2.7->matplotlib->calmap) (1.16.0)\n"
          ]
        }
      ]
    },
    {
      "cell_type": "code",
      "source": [
        "import pandas as pd\n",
        "import numpy as np; np.random.seed(sum(map(ord, 'calmap')))\n",
        "import calmap\n",
        "import matplotlib.pyplot as plt\n",
        "from datetime import datetime"
      ],
      "metadata": {
        "id": "dClcOmJIjSr0"
      },
      "execution_count": null,
      "outputs": []
    },
    {
      "cell_type": "markdown",
      "source": [
        "#Data Preparation"
      ],
      "metadata": {
        "id": "caQwSuT7eMYO"
      }
    },
    {
      "cell_type": "code",
      "source": [
        "df = pd.read_csv('Dataset-PT_seasons.csv')\n",
        "Stockholmtemp2022 = pd.read_csv('Stockholmtemp2022.csv', sep=';')"
      ],
      "metadata": {
        "id": "TGeXDAgxjWG-"
      },
      "execution_count": null,
      "outputs": []
    },
    {
      "cell_type": "code",
      "source": [
        "# Change the date format of Stockholmtemp2022 to match the df\n",
        "def change_date_format(date_str):\n",
        "    date_obj = pd.to_datetime(date_str)\n",
        "    return date_obj.strftime(\"%Y%m%d\")\n",
        "Stockholmtemp2022[\"date\"] = Stockholmtemp2022[\"date\"].apply(change_date_format)\n",
        "\n",
        "# Change the name of the date column to match the df\n",
        "Stockholmtemp2022[\"Calendar_date\"] = 0\n",
        "Stockholmtemp2022[\"Calendar_date\"] = Stockholmtemp2022[\"date\"]\n",
        "Stockholmtemp2022.drop(columns=[\"date\"])"
      ],
      "metadata": {
        "id": "4EncXz7yjs0q",
        "outputId": "43701be2-a7fd-41c4-ec8e-1adc6f0e98b6",
        "colab": {
          "base_uri": "https://localhost:8080/",
          "height": 423
        }
      },
      "execution_count": null,
      "outputs": [
        {
          "output_type": "execute_result",
          "data": {
            "text/plain": [
              "     temp Calendar_date\n",
              "0    -1.4      20220101\n",
              "1     1.9      20220102\n",
              "2     3.6      20220103\n",
              "3     0.6      20220104\n",
              "4    -2.2      20220105\n",
              "..    ...           ...\n",
              "176  23.1      20220626\n",
              "177  24.1      20220627\n",
              "178  24.1      20220628\n",
              "179  19.6      20220629\n",
              "180  22.4      20220630\n",
              "\n",
              "[181 rows x 2 columns]"
            ],
            "text/html": [
              "\n",
              "  <div id=\"df-cafefbef-603f-42fb-a764-f5828db3cfa5\" class=\"colab-df-container\">\n",
              "    <div>\n",
              "<style scoped>\n",
              "    .dataframe tbody tr th:only-of-type {\n",
              "        vertical-align: middle;\n",
              "    }\n",
              "\n",
              "    .dataframe tbody tr th {\n",
              "        vertical-align: top;\n",
              "    }\n",
              "\n",
              "    .dataframe thead th {\n",
              "        text-align: right;\n",
              "    }\n",
              "</style>\n",
              "<table border=\"1\" class=\"dataframe\">\n",
              "  <thead>\n",
              "    <tr style=\"text-align: right;\">\n",
              "      <th></th>\n",
              "      <th>temp</th>\n",
              "      <th>Calendar_date</th>\n",
              "    </tr>\n",
              "  </thead>\n",
              "  <tbody>\n",
              "    <tr>\n",
              "      <th>0</th>\n",
              "      <td>-1.4</td>\n",
              "      <td>20220101</td>\n",
              "    </tr>\n",
              "    <tr>\n",
              "      <th>1</th>\n",
              "      <td>1.9</td>\n",
              "      <td>20220102</td>\n",
              "    </tr>\n",
              "    <tr>\n",
              "      <th>2</th>\n",
              "      <td>3.6</td>\n",
              "      <td>20220103</td>\n",
              "    </tr>\n",
              "    <tr>\n",
              "      <th>3</th>\n",
              "      <td>0.6</td>\n",
              "      <td>20220104</td>\n",
              "    </tr>\n",
              "    <tr>\n",
              "      <th>4</th>\n",
              "      <td>-2.2</td>\n",
              "      <td>20220105</td>\n",
              "    </tr>\n",
              "    <tr>\n",
              "      <th>...</th>\n",
              "      <td>...</td>\n",
              "      <td>...</td>\n",
              "    </tr>\n",
              "    <tr>\n",
              "      <th>176</th>\n",
              "      <td>23.1</td>\n",
              "      <td>20220626</td>\n",
              "    </tr>\n",
              "    <tr>\n",
              "      <th>177</th>\n",
              "      <td>24.1</td>\n",
              "      <td>20220627</td>\n",
              "    </tr>\n",
              "    <tr>\n",
              "      <th>178</th>\n",
              "      <td>24.1</td>\n",
              "      <td>20220628</td>\n",
              "    </tr>\n",
              "    <tr>\n",
              "      <th>179</th>\n",
              "      <td>19.6</td>\n",
              "      <td>20220629</td>\n",
              "    </tr>\n",
              "    <tr>\n",
              "      <th>180</th>\n",
              "      <td>22.4</td>\n",
              "      <td>20220630</td>\n",
              "    </tr>\n",
              "  </tbody>\n",
              "</table>\n",
              "<p>181 rows × 2 columns</p>\n",
              "</div>\n",
              "    <div class=\"colab-df-buttons\">\n",
              "\n",
              "  <div class=\"colab-df-container\">\n",
              "    <button class=\"colab-df-convert\" onclick=\"convertToInteractive('df-cafefbef-603f-42fb-a764-f5828db3cfa5')\"\n",
              "            title=\"Convert this dataframe to an interactive table.\"\n",
              "            style=\"display:none;\">\n",
              "\n",
              "  <svg xmlns=\"http://www.w3.org/2000/svg\" height=\"24px\" viewBox=\"0 -960 960 960\">\n",
              "    <path d=\"M120-120v-720h720v720H120Zm60-500h600v-160H180v160Zm220 220h160v-160H400v160Zm0 220h160v-160H400v160ZM180-400h160v-160H180v160Zm440 0h160v-160H620v160ZM180-180h160v-160H180v160Zm440 0h160v-160H620v160Z\"/>\n",
              "  </svg>\n",
              "    </button>\n",
              "\n",
              "  <style>\n",
              "    .colab-df-container {\n",
              "      display:flex;\n",
              "      gap: 12px;\n",
              "    }\n",
              "\n",
              "    .colab-df-convert {\n",
              "      background-color: #E8F0FE;\n",
              "      border: none;\n",
              "      border-radius: 50%;\n",
              "      cursor: pointer;\n",
              "      display: none;\n",
              "      fill: #1967D2;\n",
              "      height: 32px;\n",
              "      padding: 0 0 0 0;\n",
              "      width: 32px;\n",
              "    }\n",
              "\n",
              "    .colab-df-convert:hover {\n",
              "      background-color: #E2EBFA;\n",
              "      box-shadow: 0px 1px 2px rgba(60, 64, 67, 0.3), 0px 1px 3px 1px rgba(60, 64, 67, 0.15);\n",
              "      fill: #174EA6;\n",
              "    }\n",
              "\n",
              "    .colab-df-buttons div {\n",
              "      margin-bottom: 4px;\n",
              "    }\n",
              "\n",
              "    [theme=dark] .colab-df-convert {\n",
              "      background-color: #3B4455;\n",
              "      fill: #D2E3FC;\n",
              "    }\n",
              "\n",
              "    [theme=dark] .colab-df-convert:hover {\n",
              "      background-color: #434B5C;\n",
              "      box-shadow: 0px 1px 3px 1px rgba(0, 0, 0, 0.15);\n",
              "      filter: drop-shadow(0px 1px 2px rgba(0, 0, 0, 0.3));\n",
              "      fill: #FFFFFF;\n",
              "    }\n",
              "  </style>\n",
              "\n",
              "    <script>\n",
              "      const buttonEl =\n",
              "        document.querySelector('#df-cafefbef-603f-42fb-a764-f5828db3cfa5 button.colab-df-convert');\n",
              "      buttonEl.style.display =\n",
              "        google.colab.kernel.accessAllowed ? 'block' : 'none';\n",
              "\n",
              "      async function convertToInteractive(key) {\n",
              "        const element = document.querySelector('#df-cafefbef-603f-42fb-a764-f5828db3cfa5');\n",
              "        const dataTable =\n",
              "          await google.colab.kernel.invokeFunction('convertToInteractive',\n",
              "                                                    [key], {});\n",
              "        if (!dataTable) return;\n",
              "\n",
              "        const docLinkHtml = 'Like what you see? Visit the ' +\n",
              "          '<a target=\"_blank\" href=https://colab.research.google.com/notebooks/data_table.ipynb>data table notebook</a>'\n",
              "          + ' to learn more about interactive tables.';\n",
              "        element.innerHTML = '';\n",
              "        dataTable['output_type'] = 'display_data';\n",
              "        await google.colab.output.renderOutput(dataTable, element);\n",
              "        const docLink = document.createElement('div');\n",
              "        docLink.innerHTML = docLinkHtml;\n",
              "        element.appendChild(docLink);\n",
              "      }\n",
              "    </script>\n",
              "  </div>\n",
              "\n",
              "\n",
              "<div id=\"df-c1c84157-6ef7-4b5c-8ad2-cb305a621daa\">\n",
              "  <button class=\"colab-df-quickchart\" onclick=\"quickchart('df-c1c84157-6ef7-4b5c-8ad2-cb305a621daa')\"\n",
              "            title=\"Suggest charts.\"\n",
              "            style=\"display:none;\">\n",
              "\n",
              "<svg xmlns=\"http://www.w3.org/2000/svg\" height=\"24px\"viewBox=\"0 0 24 24\"\n",
              "     width=\"24px\">\n",
              "    <g>\n",
              "        <path d=\"M19 3H5c-1.1 0-2 .9-2 2v14c0 1.1.9 2 2 2h14c1.1 0 2-.9 2-2V5c0-1.1-.9-2-2-2zM9 17H7v-7h2v7zm4 0h-2V7h2v10zm4 0h-2v-4h2v4z\"/>\n",
              "    </g>\n",
              "</svg>\n",
              "  </button>\n",
              "\n",
              "<style>\n",
              "  .colab-df-quickchart {\n",
              "      --bg-color: #E8F0FE;\n",
              "      --fill-color: #1967D2;\n",
              "      --hover-bg-color: #E2EBFA;\n",
              "      --hover-fill-color: #174EA6;\n",
              "      --disabled-fill-color: #AAA;\n",
              "      --disabled-bg-color: #DDD;\n",
              "  }\n",
              "\n",
              "  [theme=dark] .colab-df-quickchart {\n",
              "      --bg-color: #3B4455;\n",
              "      --fill-color: #D2E3FC;\n",
              "      --hover-bg-color: #434B5C;\n",
              "      --hover-fill-color: #FFFFFF;\n",
              "      --disabled-bg-color: #3B4455;\n",
              "      --disabled-fill-color: #666;\n",
              "  }\n",
              "\n",
              "  .colab-df-quickchart {\n",
              "    background-color: var(--bg-color);\n",
              "    border: none;\n",
              "    border-radius: 50%;\n",
              "    cursor: pointer;\n",
              "    display: none;\n",
              "    fill: var(--fill-color);\n",
              "    height: 32px;\n",
              "    padding: 0;\n",
              "    width: 32px;\n",
              "  }\n",
              "\n",
              "  .colab-df-quickchart:hover {\n",
              "    background-color: var(--hover-bg-color);\n",
              "    box-shadow: 0 1px 2px rgba(60, 64, 67, 0.3), 0 1px 3px 1px rgba(60, 64, 67, 0.15);\n",
              "    fill: var(--button-hover-fill-color);\n",
              "  }\n",
              "\n",
              "  .colab-df-quickchart-complete:disabled,\n",
              "  .colab-df-quickchart-complete:disabled:hover {\n",
              "    background-color: var(--disabled-bg-color);\n",
              "    fill: var(--disabled-fill-color);\n",
              "    box-shadow: none;\n",
              "  }\n",
              "\n",
              "  .colab-df-spinner {\n",
              "    border: 2px solid var(--fill-color);\n",
              "    border-color: transparent;\n",
              "    border-bottom-color: var(--fill-color);\n",
              "    animation:\n",
              "      spin 1s steps(1) infinite;\n",
              "  }\n",
              "\n",
              "  @keyframes spin {\n",
              "    0% {\n",
              "      border-color: transparent;\n",
              "      border-bottom-color: var(--fill-color);\n",
              "      border-left-color: var(--fill-color);\n",
              "    }\n",
              "    20% {\n",
              "      border-color: transparent;\n",
              "      border-left-color: var(--fill-color);\n",
              "      border-top-color: var(--fill-color);\n",
              "    }\n",
              "    30% {\n",
              "      border-color: transparent;\n",
              "      border-left-color: var(--fill-color);\n",
              "      border-top-color: var(--fill-color);\n",
              "      border-right-color: var(--fill-color);\n",
              "    }\n",
              "    40% {\n",
              "      border-color: transparent;\n",
              "      border-right-color: var(--fill-color);\n",
              "      border-top-color: var(--fill-color);\n",
              "    }\n",
              "    60% {\n",
              "      border-color: transparent;\n",
              "      border-right-color: var(--fill-color);\n",
              "    }\n",
              "    80% {\n",
              "      border-color: transparent;\n",
              "      border-right-color: var(--fill-color);\n",
              "      border-bottom-color: var(--fill-color);\n",
              "    }\n",
              "    90% {\n",
              "      border-color: transparent;\n",
              "      border-bottom-color: var(--fill-color);\n",
              "    }\n",
              "  }\n",
              "</style>\n",
              "\n",
              "  <script>\n",
              "    async function quickchart(key) {\n",
              "      const quickchartButtonEl =\n",
              "        document.querySelector('#' + key + ' button');\n",
              "      quickchartButtonEl.disabled = true;  // To prevent multiple clicks.\n",
              "      quickchartButtonEl.classList.add('colab-df-spinner');\n",
              "      try {\n",
              "        const charts = await google.colab.kernel.invokeFunction(\n",
              "            'suggestCharts', [key], {});\n",
              "      } catch (error) {\n",
              "        console.error('Error during call to suggestCharts:', error);\n",
              "      }\n",
              "      quickchartButtonEl.classList.remove('colab-df-spinner');\n",
              "      quickchartButtonEl.classList.add('colab-df-quickchart-complete');\n",
              "    }\n",
              "    (() => {\n",
              "      let quickchartButtonEl =\n",
              "        document.querySelector('#df-c1c84157-6ef7-4b5c-8ad2-cb305a621daa button');\n",
              "      quickchartButtonEl.style.display =\n",
              "        google.colab.kernel.accessAllowed ? 'block' : 'none';\n",
              "    })();\n",
              "  </script>\n",
              "</div>\n",
              "    </div>\n",
              "  </div>\n"
            ]
          },
          "metadata": {},
          "execution_count": 12
        }
      ]
    },
    {
      "cell_type": "code",
      "source": [
        "# Merge df and Stockholmtemp2022\n",
        "Stockholmtemp2022[\"Calendar_date\"] = Stockholmtemp2022[\"Calendar_date\"].astype(int)\n",
        "df = pd.merge(df, Stockholmtemp2022, on='Calendar_date')\n",
        "df.drop(columns=['date'])\n",
        "df[\"Calendar_date\"] = pd.to_datetime(df['Calendar_date'], format='%Y%m%d')"
      ],
      "metadata": {
        "id": "N7NM31-Yjuu9"
      },
      "execution_count": null,
      "outputs": []
    },
    {
      "cell_type": "code",
      "source": [],
      "metadata": {
        "id": "oZjB3k7aqwAl"
      },
      "execution_count": null,
      "outputs": []
    },
    {
      "cell_type": "markdown",
      "source": [
        "# Data Exploration"
      ],
      "metadata": {
        "id": "xVD25OwOeaGY"
      }
    },
    {
      "cell_type": "code",
      "source": [
        "days = np.unique(df[['Calendar_date']].values.ravel())"
      ],
      "metadata": {
        "id": "oAggDJ3QAhdo"
      },
      "execution_count": null,
      "outputs": []
    },
    {
      "cell_type": "code",
      "source": [
        "#higher frequency = more buses (or data measurements) that day\n",
        "df['Calendar_date'] = pd.to_datetime(df['Calendar_date'])\n",
        "date_freq = df.value_counts('Calendar_date')\n",
        "plt.figure(figsize=(10,5))\n",
        "calmap.yearplot(date_freq, year = 2022)\n",
        "date_freq"
      ],
      "metadata": {
        "id": "M6JRVCD6kBo3",
        "colab": {
          "base_uri": "https://localhost:8080/",
          "height": 384
        },
        "outputId": "c725db8d-85b0-46ff-81d9-b0cbaca7f86a"
      },
      "execution_count": null,
      "outputs": [
        {
          "output_type": "execute_result",
          "data": {
            "text/plain": [
              "Calendar_date\n",
              "2022-05-20    3969\n",
              "2022-04-06    3969\n",
              "2022-02-17    3969\n",
              "2022-05-16    3969\n",
              "2022-01-18    3969\n",
              "              ... \n",
              "2022-05-30     108\n",
              "2022-05-31      81\n",
              "2022-06-01      81\n",
              "2022-06-02      81\n",
              "2022-06-03      81\n",
              "Length: 173, dtype: int64"
            ]
          },
          "metadata": {},
          "execution_count": 16
        },
        {
          "output_type": "display_data",
          "data": {
            "text/plain": [
              "<Figure size 1000x500 with 1 Axes>"
            ],
            "image/png": "[encoded data removed]"
          },
          "metadata": {}
        }
      ]
    },
    {
      "cell_type": "code",
      "source": [
        "snow_by_day = df.groupby(df['Calendar_date'].dt.date)['factor(weather)Snow'].sum() > 0\n",
        "days_with_snow = snow_by_day[snow_by_day].index\n",
        "print(\"Days with snow:\")\n",
        "for day in days_with_snow:\n",
        "    print(day)"
      ],
      "metadata": {
        "colab": {
          "base_uri": "https://localhost:8080/"
        },
        "id": "r3Wl6mUTZQ6O",
        "outputId": "736d4053-7d45-4a9a-ec9c-bcd05c7fd2ac"
      },
      "execution_count": null,
      "outputs": [
        {
          "output_type": "stream",
          "name": "stdout",
          "text": [
            "Days with snow:\n",
            "2022-02-08\n",
            "2022-02-19\n",
            "2022-02-21\n",
            "2022-03-29\n",
            "2022-04-01\n",
            "2022-04-05\n",
            "2022-04-07\n",
            "2022-04-08\n",
            "2022-04-09\n"
          ]
        }
      ]
    },
    {
      "cell_type": "code",
      "source": [
        "lightsnow_by_day = df.groupby(df['Calendar_date'].dt.date)['factor(weather)Light_Snow'].sum() > 0\n",
        "days_with_lightsnow = lightsnow_by_day[lightsnow_by_day].index\n",
        "print(\"Days with light snow:\")\n",
        "for day in days_with_lightsnow:\n",
        "    print(day)"
      ],
      "metadata": {
        "colab": {
          "base_uri": "https://localhost:8080/"
        },
        "id": "aYhqzHRUaGix",
        "outputId": "222967bc-dc27-4800-db9e-a527ec50d258"
      },
      "execution_count": null,
      "outputs": [
        {
          "output_type": "stream",
          "name": "stdout",
          "text": [
            "Days with light snow:\n",
            "2022-01-08\n",
            "2022-01-17\n",
            "2022-01-29\n",
            "2022-01-30\n",
            "2022-02-01\n",
            "2022-02-02\n",
            "2022-02-08\n",
            "2022-02-17\n",
            "2022-02-19\n",
            "2022-02-21\n",
            "2022-02-23\n",
            "2022-03-31\n",
            "2022-04-01\n",
            "2022-04-04\n",
            "2022-04-07\n",
            "2022-04-08\n",
            "2022-04-09\n"
          ]
        }
      ]
    },
    {
      "cell_type": "code",
      "source": [
        "rain_by_day = df.groupby(df['Calendar_date'].dt.date)['factor(weather)Rain'].sum() > 0\n",
        "days_with_rain = rain_by_day[rain_by_day].index\n",
        "print(\"Days with rain:\")\n",
        "for day in days_with_rain:\n",
        "    print(day)"
      ],
      "metadata": {
        "colab": {
          "base_uri": "https://localhost:8080/"
        },
        "id": "YXvXBVFHc2TW",
        "outputId": "46a346e2-b166-4864-e8e7-f22355939fb4"
      },
      "execution_count": null,
      "outputs": [
        {
          "output_type": "stream",
          "name": "stdout",
          "text": [
            "Days with rain:\n",
            "2022-01-29\n",
            "2022-02-16\n",
            "2022-04-07\n",
            "2022-05-07\n",
            "2022-05-11\n",
            "2022-05-14\n",
            "2022-05-20\n",
            "2022-05-27\n",
            "2022-05-28\n"
          ]
        }
      ]
    },
    {
      "cell_type": "code",
      "source": [
        "extracold_by_day = df.groupby(df['Calendar_date'].dt.date)['factor(temperature)Extra_cold'].sum() > 0\n",
        "days_with_extracold = extracold_by_day[extracold_by_day].index\n",
        "print(\"Extra cold days:\")\n",
        "for day in days_with_extracold:\n",
        "    print(day)\n"
      ],
      "metadata": {
        "id": "TUZW2nTyescR",
        "outputId": "c078d3d8-c6ff-4a52-b9ef-7d5606621408",
        "colab": {
          "base_uri": "https://localhost:8080/"
        }
      },
      "execution_count": null,
      "outputs": [
        {
          "output_type": "stream",
          "name": "stdout",
          "text": [
            "Extra cold days:\n",
            "2022-01-22\n",
            "2022-01-25\n",
            "2022-02-01\n",
            "2022-02-02\n",
            "2022-02-22\n",
            "2022-02-23\n",
            "2022-03-04\n",
            "2022-03-05\n",
            "2022-03-09\n",
            "2022-03-12\n",
            "2022-03-13\n",
            "2022-03-14\n",
            "2022-03-16\n",
            "2022-03-29\n",
            "2022-03-31\n",
            "2022-04-01\n",
            "2022-04-02\n"
          ]
        }
      ]
    },
    {
      "cell_type": "code",
      "source": [
        "df_new = df[(df['Calendar_date'] != '2022-06-30') | (df['bus_id']!=41361)]\n"
      ],
      "metadata": {
        "id": "_0WJhKCEpCP8"
      },
      "execution_count": null,
      "outputs": []
    },
    {
      "cell_type": "markdown",
      "source": [
        "#Clustering"
      ],
      "metadata": {
        "id": "0QlaaupTB9X6"
      }
    },
    {
      "cell_type": "code",
      "source": [
        "from sklearn.cluster import KMeans, AgglomerativeClustering, DBSCAN\n",
        "from sklearn.mixture import GaussianMixture"
      ],
      "metadata": {
        "id": "W0G7RBRmCCqg"
      },
      "execution_count": null,
      "outputs": []
    },
    {
      "cell_type": "code",
      "source": [
        "n_clusters = 2"
      ],
      "metadata": {
        "id": "8M-oKAQDCNDK"
      },
      "execution_count": null,
      "outputs": []
    },
    {
      "cell_type": "markdown",
      "source": [
        "#Evaluation"
      ],
      "metadata": {
        "id": "zmmc3UqpCd4u"
      }
    },
    {
      "cell_type": "code",
      "source": [
        "from sklearn.metrics import calinski_harabasz_score, silhouette_score, davies_bouldin_score"
      ],
      "metadata": {
        "id": "SbxeGm-yChyl"
      },
      "execution_count": null,
      "outputs": []
    }
  ],
  "metadata": {
    "language_info": {
      "name": "python"
    },
    "orig_nbformat": 4,
    "colab": {
      "provenance": [],
      "toc_visible": true
    },
    "kernelspec": {
      "name": "python3",
      "display_name": "Python 3"
    }
  },
  "nbformat": 4,
  "nbformat_minor": 0
}