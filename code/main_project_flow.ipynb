{
  "cells": [
    {
      "cell_type": "markdown",
      "metadata": {
        "id": "SdESlEndcVBB"
      },
      "source": [
        "# AH2179 Applied Artificial Intelligence in Transportation Group 5 Project\n",
        "### By Fabian Fermazin, William Öman, Itsuki Shindo"
      ]
    },
    {
      "cell_type": "markdown",
      "metadata": {
        "id": "VVm6LTCDcVBN"
      },
      "source": []
    }
  ],
  "metadata": {
    "language_info": {
      "name": "python"
    },
    "orig_nbformat": 4,
    "colab": {
      "provenance": []
    }
  },
  "nbformat": 4,
  "nbformat_minor": 0
}