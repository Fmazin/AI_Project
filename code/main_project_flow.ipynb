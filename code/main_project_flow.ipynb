{
  "cells": [
    {
      "cell_type": "markdown",
      "metadata": {
        "id": "MVK5lCgkcSsZ"
      },
      "source": [
        "# AH2179 Applied Artificial Intelligence in Transportation Group 5 Project\n",
        "### By Fabian Fermazin, William Öman, Itsuki Shindo"
      ]
    },
    {
      "cell_type": "markdown",
      "metadata": {
        "id": "XLKTO4CWcSsb"
      },
      "source": [
        "1+1\n"
      ]
    },
    {
      "cell_type": "code",
      "source": [
        "print(\"hello world\")"
      ],
      "metadata": {
        "id": "MWhE3NjxcX-g",
        "outputId": "b32a99e1-9699-41c0-d66b-05e4abee5058",
        "colab": {
          "base_uri": "https://localhost:8080/"
        }
      },
      "execution_count": 1,
      "outputs": [
        {
          "output_type": "stream",
          "name": "stdout",
          "text": [
            "hello world\n"
          ]
        }
      ]
    },
    {
      "cell_type": "code",
      "source": [],
      "metadata": {
        "id": "sa0dnPt-capZ"
      },
      "execution_count": null,
      "outputs": []
    }
  ],
  "metadata": {
    "language_info": {
      "name": "python"
    },
    "orig_nbformat": 4,
    "colab": {
      "provenance": []
    },
    "kernelspec": {
      "name": "python3",
      "display_name": "Python 3"
    }
  },
  "nbformat": 4,
  "nbformat_minor": 0
}